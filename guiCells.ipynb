{
 "cells": [
  {
   "cell_type": "code",
   "execution_count": 21,
   "metadata": {},
   "outputs": [],
   "source": [
    "import sys\n",
    "from PyQt5.QtWidgets import QApplication, QWidget, QPushButton, QDesktopWidget, QTextEdit\n",
    "from PyQt5 import QtCore\n",
    "from PyQt5.QtGui import QIcon\n",
    "from PyQt5.QtCore import pyqtSlot"
   ]
  },
  {
   "cell_type": "code",
   "execution_count": 30,
   "metadata": {},
   "outputs": [
    {
     "ename": "SystemExit",
     "evalue": "0",
     "output_type": "error",
     "traceback": [
      "An exception has occurred, use %tb to see the full traceback.\n",
      "\u001b[1;31mSystemExit\u001b[0m\u001b[1;31m:\u001b[0m 0\n"
     ]
    }
   ],
   "source": [
    "import sys\n",
    "from PyQt5.QtWidgets import QApplication, QWidget, QPushButton, QDesktopWidget, QTextEdit\n",
    "from PyQt5 import QtCore\n",
    "from PyQt5.QtGui import QIcon\n",
    "from PyQt5.QtCore import pyqtSlot\n",
    "\n",
    "class App(QWidget):\n",
    "\n",
    "    def __init__(self):\n",
    "        super().__init__()\n",
    "        self.title = 'PyQt5 button - pythonspot.com'\n",
    "        self.left = 10\n",
    "        self.top = 10\n",
    "        self.width = 700\n",
    "        self.height = 400\n",
    "        self.initUI()\n",
    "    \n",
    "    def initUI(self):\n",
    "        self.setWindowTitle(self.title)\n",
    "        self.setGeometry(self.left, self.top, self.width, self.height)\n",
    "        self.centerApp() # user defined\n",
    "        \n",
    "        self.textbox = QTextEdit(self)\n",
    "        self.textbox.textChanged.connect(self.displayPrediction)\n",
    "        self.textbox.setGeometry(50, 180, 600, 80)\n",
    "\n",
    "        btnSnip = QPushButton('Snip', self)\n",
    "        btnSnip.setToolTip('This is to snip an image of a math equation')\n",
    "        btnSnip.setGeometry(100, 300, 200, 50)\n",
    "        btnSnip.clicked.connect(self.snipImg) \n",
    "\n",
    "        btnLoad = QPushButton(\"Load Image\", self)\n",
    "        btnLoad.setToolTip('This is to load an image of a math equation from a folder locally')\n",
    "        btnLoad.setGeometry(400, 300, 200, 50)\n",
    "        btnLoad.clicked.connect(self.loadImg) \n",
    "\n",
    "        self.show()\n",
    "    \n",
    "    def centerApp(self): # centers application\n",
    "        qtRectangle = self.frameGeometry() # retrieves geometry of the window\n",
    "        centerPoint = QDesktopWidget().availableGeometry().center() # gets the center of the screen\n",
    "        qtRectangle.moveCenter(centerPoint) # moves created window to center\n",
    "        qPoint = qtRectangle.topLeft()\n",
    "        self.move(qPoint) # moves current application's window to created window's location\n",
    "\n",
    "\n",
    "    @pyqtSlot() #decorator function that runs some built-in code before (and after) snip()'s execution \n",
    "    def snipImg(self):\n",
    "        print('CODE TO SNIP IMAGE')\n",
    "\n",
    "    @pyqtSlot()\n",
    "    def loadImg(self):\n",
    "        print('CODE TO load IMAGE FROM LOCAL FILE')\n",
    "\n",
    "    @pyqtSlot() \n",
    "    def displayPrediction(self):\n",
    "        print('CODE TO LOAD MODEL AND DISPLAY PREDICTION OF TEXT IN TEXTBOX')\n",
    "\n",
    "if __name__ == '__main__':\n",
    "    appPtr = QtCore.QCoreApplication.instance() # this pointer and the if statement are done to allow this to be run in an .ipynb file\n",
    "    if appPtr is None:\n",
    "        app = QApplication(sys.argv) # super class\n",
    "    ex = App() # subclass\n",
    "    sys.exit(app.exec_()) # executing super class which executes subclass \n",
    "    # app.exec_() runs a GUI event loop that waits for user actions (events) \n",
    "    # and dispatches them to the right widget for handling.\n"
   ]
  },
  {
   "cell_type": "code",
   "execution_count": null,
   "metadata": {},
   "outputs": [],
   "source": []
  }
 ],
 "metadata": {
  "interpreter": {
   "hash": "4336c69168c9d0b9aef7b5ff2a9c99b9154b3577db76ef254a767ddfecdefbe8"
  },
  "kernelspec": {
   "display_name": "Python 3.8.10 ('venv': venv)",
   "language": "python",
   "name": "python3"
  },
  "language_info": {
   "codemirror_mode": {
    "name": "ipython",
    "version": 3
   },
   "file_extension": ".py",
   "mimetype": "text/x-python",
   "name": "python",
   "nbconvert_exporter": "python",
   "pygments_lexer": "ipython3",
   "version": "3.8.10"
  },
  "orig_nbformat": 4
 },
 "nbformat": 4,
 "nbformat_minor": 2
}
