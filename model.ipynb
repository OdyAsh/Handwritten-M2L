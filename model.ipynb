{
 "cells": [
  {
   "cell_type": "markdown",
   "metadata": {},
   "source": [
    "# Extracting symbols from image using `OpenCV`"
   ]
  },
  {
   "cell_type": "code",
   "execution_count": 34,
   "metadata": {},
   "outputs": [],
   "source": [
    "import cv2\n",
    "import numpy as np\n",
    "from functools import cmp_to_key"
   ]
  },
  {
   "cell_type": "code",
   "execution_count": 46,
   "metadata": {},
   "outputs": [],
   "source": [
    "image= cv2.imread('tests/testMath4.png')\n",
    "original_image= image\n",
    "\n",
    "gray= cv2.cvtColor(image,cv2.COLOR_BGR2GRAY)\n",
    "filtered = cv2.medianBlur(gray, 5)\n",
    "cv2.imshow('Image', filtered)\n",
    "cv2.waitKey(0)\n",
    "\n",
    "#imgThresholded = cv2.adaptiveThreshold(filtered, 255, cv2.ADAPTIVE_THRESH_GAUSSIAN_C,\n",
    "                                          #cv2.THRESH_BINARY, 199, 5)\n",
    "#cv2.imshow('Image', imgThresholded)\n",
    "#cv2.waitKey(0)\n",
    "\n",
    "edges = cv2.Canny(filtered, 50,180)\n",
    "cv2.imshow('Image', edges)\n",
    "cv2.waitKey(0)\n",
    "\n",
    "kernel = np.ones((5,5), np.uint8)\n",
    "img_dilation = cv2.dilate(edges, kernel, iterations=5)\n",
    "cv2.imshow('Image', img_dilation)\n",
    "cv2.waitKey(0)\n",
    "\n",
    "\n",
    "contours, hierarchy= cv2.findContours(img_dilation.copy(), cv2.RETR_EXTERNAL, cv2.CHAIN_APPROX_NONE)\n",
    "\n",
    "#sorted_contours= sorted(contours, key=cv2.contourArea, reverse= True)\n",
    "\n",
    "\n",
    "boundingBoxes = []\n",
    "for (i,c) in enumerate(contours):\n",
    "    x,y,w,h = cv2.boundingRect(c)\n",
    "    boundingBoxes.append((x,y,w,h))\n",
    "    \"\"\"\n",
    "    cropped_contour= original_image[y:y+h, x:x+w]\n",
    "    image_name= \"output_shape_number_\" + str(i+1) + \".jpg\"\n",
    "    cv2.imwrite(image_name, cropped_contour)\n",
    "    readimage= cv2.imread(image_name)\n",
    "    cv2.imshow('Image', readimage)\n",
    "    cv2.waitKey(0)\n",
    "    \"\"\"\n",
    "\n",
    "rows, _, _ = image.shape\n",
    "def leftRightTopBottom(tup1, tup2):\n",
    "    x1, y1, _, _ = tup1\n",
    "    x2, y2, _, _ = tup2\n",
    "    yRegion1, yRegion2 = -1, -1\n",
    "    for i in range(8):\n",
    "        if y1 < rows/8 + rows*(i/8):\n",
    "            yRegion1 = i\n",
    "            break\n",
    "    else:\n",
    "        if yRegion1 == -1:\n",
    "            yRegion1 = 8\n",
    "    for i in range(8):\n",
    "        if y2 < rows/8 + rows*(i/8):\n",
    "            yRegion2 = i\n",
    "            break\n",
    "    else:\n",
    "        if yRegion2 == -1:\n",
    "            yRegion2 = 8\n",
    "    \n",
    "    if yRegion1 < yRegion2:\n",
    "        return -1\n",
    "    elif yRegion2 < yRegion1:\n",
    "        return 1\n",
    "    elif x1 <= x2:\n",
    "        return -1\n",
    "    else:\n",
    "        return 1\n",
    "\n",
    "key_leftRightTopBottom = cmp_to_key(leftRightTopBottom)\n",
    "boundingBoxes = sorted(boundingBoxes, key=key_leftRightTopBottom)\n",
    "#boundingBoxes = sorted(boundingBoxes, key = lambda x : x[0] + x[1])\n",
    "\n",
    "for box in boundingBoxes:\n",
    "    x,y,w,h = box\n",
    "    cropped_contour= original_image[y:y+h, x:x+w]\n",
    "    image_name= \"output_shape_number_\" + str(i+1) + \".jpg\"\n",
    "    cv2.imwrite(image_name, cropped_contour)\n",
    "    readimage= cv2.imread(image_name)\n",
    "    cv2.imshow('Image', readimage)\n",
    "    cv2.waitKey(0)\n",
    "\n",
    "cv2.destroyAllWindows()"
   ]
  },
  {
   "cell_type": "markdown",
   "metadata": {},
   "source": [
    "# Reading the kaggle [dataset](https://www.kaggle.com/datasets/aidapearson/ocr-data)"
   ]
  },
  {
   "cell_type": "code",
   "execution_count": null,
   "metadata": {},
   "outputs": [],
   "source": []
  }
 ],
 "metadata": {
  "interpreter": {
   "hash": "25c1111f16a5ca6766f1c5cccb819e55c234e2449b101cca4e6a0a62df2327c3"
  },
  "kernelspec": {
   "display_name": "Python 3.8.10 64-bit",
   "language": "python",
   "name": "python3"
  },
  "language_info": {
   "codemirror_mode": {
    "name": "ipython",
    "version": 3
   },
   "file_extension": ".py",
   "mimetype": "text/x-python",
   "name": "python",
   "nbconvert_exporter": "python",
   "pygments_lexer": "ipython3",
   "version": "3.8.10"
  },
  "orig_nbformat": 4
 },
 "nbformat": 4,
 "nbformat_minor": 2
}
