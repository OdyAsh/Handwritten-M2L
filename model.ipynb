{
 "cells": [
  {
   "cell_type": "markdown",
   "metadata": {},
   "source": [
    "# Extracting symbols from image using `OpenCV`"
   ]
  },
  {
   "cell_type": "code",
   "execution_count": 179,
   "metadata": {},
   "outputs": [],
   "source": [
    "import os\n",
    "import cv2\n",
    "import numpy as np\n",
    "from functools import cmp_to_key\n",
    "%matplotlib inline\n",
    "from IPython.display import display, Image"
   ]
  },
  {
   "cell_type": "code",
   "execution_count": 202,
   "metadata": {},
   "outputs": [],
   "source": [
    "def extractSymbols(imgOrig, showSteps = False):\n",
    "    debugImgSteps = []\n",
    "    imgGray = cv2.cvtColor(imgOrig,cv2.COLOR_BGR2GRAY)\n",
    "    imgFiltered = cv2.medianBlur(imgGray, 5)\n",
    "    debugImgSteps.append(imgFiltered)\n",
    "    \n",
    "    imgCanny = cv2.Canny(imgFiltered, 50,180)\n",
    "    debugImgSteps.append(imgCanny)\n",
    "\n",
    "    kernel = np.ones((5,5), np.uint8)\n",
    "    imgDilated = cv2.dilate(imgCanny, kernel, iterations=5)\n",
    "    debugImgSteps.append(imgDilated)\n",
    "\n",
    "    contours, _= cv2.findContours(imgDilated, cv2.RETR_EXTERNAL, cv2.CHAIN_APPROX_NONE)\n",
    "\n",
    "    boundingBoxes = []\n",
    "    for contour in contours:\n",
    "        x,y,w,h = cv2.boundingRect(contour)\n",
    "        boundingBoxes.append((x,y,w,h))\n",
    "\n",
    "    global rowsG\n",
    "    rowsG, _, _ = imgOrig.shape\n",
    "    key_leftRightTopBottom = cmp_to_key(leftRightTopBottom)\n",
    "    boundingBoxes = sorted(boundingBoxes, key=key_leftRightTopBottom)\n",
    "\n",
    "    symbols = []\n",
    "    for (i, box) in enumerate(boundingBoxes):\n",
    "        x,y,w,h = box\n",
    "        mathSymbol = imgOrig[y:y+h, x:x+w]\n",
    "        mathSymbol = cv2.resize(mathSymbol, (45,45), interpolation=cv2.INTER_AREA)\n",
    "        symbols.append(mathSymbol)\n",
    "        debugImgSteps.append(mathSymbol)\n",
    "        image_name= \"output_shape_number_\" + str(i+1) + \".jpg\"\n",
    "        cv2.imwrite(image_name, mathSymbol)\n",
    "\n",
    "    if showSteps:\n",
    "        dispImages(debugImgSteps)\n",
    "\n",
    "    return symbols\n",
    "        "
   ]
  },
  {
   "cell_type": "code",
   "execution_count": 203,
   "metadata": {},
   "outputs": [],
   "source": [
    "def leftRightTopBottom(tup1, tup2):\n",
    "    x1, y1, _, _ = tup1\n",
    "    x2, y2, _, _ = tup2\n",
    "    rows = rowsG\n",
    "    yRegion1, yRegion2 = -1, -1\n",
    "\n",
    "    for i in range(8):\n",
    "        if y1 < rows/8 + rows*(i/8):\n",
    "            yRegion1 = i\n",
    "            break\n",
    "    else:\n",
    "        if yRegion1 == -1:\n",
    "            yRegion1 = 8\n",
    "\n",
    "    for i in range(8):\n",
    "        if y2 < rows/8 + rows*(i/8):\n",
    "            yRegion2 = i\n",
    "            break\n",
    "    else:\n",
    "        if yRegion2 == -1:\n",
    "            yRegion2 = 8\n",
    "    \n",
    "    if yRegion1 < yRegion2:\n",
    "        return -1\n",
    "    elif yRegion2 < yRegion1:\n",
    "        return 1\n",
    "    elif x1 <= x2:\n",
    "        return -1\n",
    "    else:\n",
    "        return 1\n"
   ]
  },
  {
   "cell_type": "code",
   "execution_count": 204,
   "metadata": {},
   "outputs": [],
   "source": [
    "def dispImages(imgs):\n",
    "    for img in imgs:\n",
    "        cv2.imshow('Image', img)\n",
    "        cv2.waitKey(0)\n",
    "    else:\n",
    "        cv2.destroyAllWindows()"
   ]
  },
  {
   "cell_type": "code",
   "execution_count": 205,
   "metadata": {},
   "outputs": [],
   "source": [
    "img = cv2.imread('tests/testMath5.png')\n",
    "symbols = extractSymbols(img, showSteps=False)\n",
    "dispImages(symbols)"
   ]
  },
  {
   "cell_type": "markdown",
   "metadata": {},
   "source": [
    "# Reading the kaggle [dataset](https://www.kaggle.com/datasets/xainano/handwrittenmathsymbols?resource=download)"
   ]
  },
  {
   "cell_type": "code",
   "execution_count": 207,
   "metadata": {},
   "outputs": [
    {
     "data": {
      "text/plain": [
       "['!',\n",
       " '(',\n",
       " ')',\n",
       " '+',\n",
       " ',',\n",
       " '-',\n",
       " '0',\n",
       " '1',\n",
       " '2',\n",
       " '3',\n",
       " '4',\n",
       " '5',\n",
       " '6',\n",
       " '7',\n",
       " '8',\n",
       " '9',\n",
       " '=',\n",
       " 'A',\n",
       " 'alpha',\n",
       " 'ascii_124',\n",
       " 'b',\n",
       " 'beta',\n",
       " 'C',\n",
       " 'cos',\n",
       " 'd',\n",
       " 'Delta',\n",
       " 'div',\n",
       " 'e',\n",
       " 'exists',\n",
       " 'f',\n",
       " 'forall',\n",
       " 'forward_slash',\n",
       " 'G',\n",
       " 'gamma',\n",
       " 'geq',\n",
       " 'gt',\n",
       " 'H',\n",
       " 'i',\n",
       " 'in',\n",
       " 'infty',\n",
       " 'int',\n",
       " 'j',\n",
       " 'k',\n",
       " 'l',\n",
       " 'lambda',\n",
       " 'ldots',\n",
       " 'leq',\n",
       " 'lim',\n",
       " 'log',\n",
       " 'lt',\n",
       " 'M',\n",
       " 'mu',\n",
       " 'N',\n",
       " 'neq',\n",
       " 'o',\n",
       " 'p',\n",
       " 'phi',\n",
       " 'pi',\n",
       " 'pm',\n",
       " 'prime',\n",
       " 'q',\n",
       " 'R',\n",
       " 'rightarrow',\n",
       " 'S',\n",
       " 'sigma',\n",
       " 'sin',\n",
       " 'sqrt',\n",
       " 'sum',\n",
       " 'T',\n",
       " 'tan',\n",
       " 'theta',\n",
       " 'times',\n",
       " 'u',\n",
       " 'v',\n",
       " 'w',\n",
       " 'X',\n",
       " 'y',\n",
       " 'z',\n",
       " '[',\n",
       " ']',\n",
       " '{',\n",
       " '}']"
      ]
     },
     "execution_count": 207,
     "metadata": {},
     "output_type": "execute_result"
    }
   ],
   "source": [
    "def loadData(dataDir):\n",
    "    FARAH = {}\n",
    "    imgs = []\n",
    "    labels = []\n",
    "    for key, value in FARAH.items():\n",
    "        path = os.path.join(dataDir, key)\n",
    "        labels.append(value)\n",
    "        for img in os.listdir(path):\n",
    "            try:\n",
    "                print()\n",
    "            except Exception as e:\n",
    "                print(e)\n",
    "\n",
    "    "
   ]
  },
  {
   "cell_type": "code",
   "execution_count": null,
   "metadata": {},
   "outputs": [],
   "source": []
  }
 ],
 "metadata": {
  "interpreter": {
   "hash": "25c1111f16a5ca6766f1c5cccb819e55c234e2449b101cca4e6a0a62df2327c3"
  },
  "kernelspec": {
   "display_name": "Python 3.8.10 64-bit",
   "language": "python",
   "name": "python3"
  },
  "language_info": {
   "codemirror_mode": {
    "name": "ipython",
    "version": 3
   },
   "file_extension": ".py",
   "mimetype": "text/x-python",
   "name": "python",
   "nbconvert_exporter": "python",
   "pygments_lexer": "ipython3",
   "version": "3.8.10"
  },
  "orig_nbformat": 4
 },
 "nbformat": 4,
 "nbformat_minor": 2
}
